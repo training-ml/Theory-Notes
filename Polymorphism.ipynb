{
 "cells": [
  {
   "cell_type": "markdown",
   "id": "4b00fc2a",
   "metadata": {},
   "source": [
    "# OOPS"
   ]
  },
  {
   "cell_type": "code",
   "execution_count": null,
   "id": "b7d7d94a",
   "metadata": {},
   "outputs": [],
   "source": []
  },
  {
   "cell_type": "markdown",
   "id": "60d7758c",
   "metadata": {},
   "source": [
    "- In Python, **polymorphism** is a fundamental concept in object-oriented programming (OOP) that allows objects of different classes to be treated as objects of a common superclass. \n",
    "- It enables you to use a single interface to represent different types of objects, and it's a key feature that promotes code flexibility, reusability, and abstraction"
   ]
  },
  {
   "cell_type": "markdown",
   "id": "4849d076",
   "metadata": {},
   "source": [
    "### Method Overriding"
   ]
  },
  {
   "cell_type": "markdown",
   "id": "ae385d1a",
   "metadata": {},
   "source": [
    "- Method overriding allows a subclass to provide a specific implementation for a method that is already defined in its superclass.\n",
    "- When a method is called on an object of the subclass, the overridden method in the subclass is executed instead of the method in the superclass. \n",
    "- This allows different classes to have their unique behavior for the same method name."
   ]
  },
  {
   "cell_type": "code",
   "execution_count": 1,
   "id": "18893fe5",
   "metadata": {},
   "outputs": [
    {
     "name": "stdout",
     "output_type": "stream",
     "text": [
      "Meow\n",
      "Woof\n"
     ]
    }
   ],
   "source": [
    "class Animal:\n",
    "    def make_sound(self):\n",
    "        print(\"Generic animal sound\")\n",
    "\n",
    "class Cat(Animal):\n",
    "    def make_sound(self):\n",
    "        print(\"Meow\")\n",
    "\n",
    "class Dog(Animal):\n",
    "    def make_sound(self):\n",
    "        print(\"Woof\")\n",
    "\n",
    "cat = Cat()\n",
    "dog = Dog()\n",
    "\n",
    "cat.make_sound()  \n",
    "dog.make_sound()  \n"
   ]
  },
  {
   "cell_type": "code",
   "execution_count": 7,
   "id": "0cb732a5",
   "metadata": {},
   "outputs": [],
   "source": [
    "import math\n",
    "\n",
    "class Shape:\n",
    "    def area(self):\n",
    "        return \"area cannot be calculated\"\n",
    "\n",
    "class Circle(Shape):\n",
    "    def __init__(self, radius):\n",
    "        self.radius = radius\n",
    "\n",
    "    def area(self):\n",
    "        return math.pi * self.radius ** 2\n",
    "\n",
    "class Rectangle(Shape):\n",
    "    def __init__(self, width, height):\n",
    "        self.width = width\n",
    "        self.height = height\n",
    "\n",
    "    def area(self):\n",
    "        return self.width * self.height\n",
    "\n",
    "class Triangle(Shape):\n",
    "    def __init__(self, base, height):\n",
    "        self.base = base\n",
    "        self.height = height\n",
    "\n",
    "    def area(self):\n",
    "        return 0.5 * self.base * self.height"
   ]
  },
  {
   "cell_type": "code",
   "execution_count": 8,
   "id": "b248a130",
   "metadata": {},
   "outputs": [
    {
     "data": {
      "text/plain": [
       "28.274333882308138"
      ]
     },
     "execution_count": 8,
     "metadata": {},
     "output_type": "execute_result"
    }
   ],
   "source": [
    "c1 = Circle(3)\n",
    "c1.area()"
   ]
  },
  {
   "cell_type": "code",
   "execution_count": 6,
   "id": "3396f547",
   "metadata": {},
   "outputs": [
    {
     "data": {
      "text/plain": [
       "28.274333882308138"
      ]
     },
     "execution_count": 6,
     "metadata": {},
     "output_type": "execute_result"
    }
   ],
   "source": [
    "math.pi*3*3"
   ]
  },
  {
   "cell_type": "code",
   "execution_count": null,
   "id": "92d2f0ab",
   "metadata": {},
   "outputs": [],
   "source": []
  },
  {
   "cell_type": "code",
   "execution_count": null,
   "id": "c62610cb",
   "metadata": {},
   "outputs": [],
   "source": []
  },
  {
   "cell_type": "code",
   "execution_count": null,
   "id": "248a57f5",
   "metadata": {},
   "outputs": [],
   "source": []
  },
  {
   "cell_type": "code",
   "execution_count": null,
   "id": "228bc90a",
   "metadata": {},
   "outputs": [],
   "source": []
  },
  {
   "cell_type": "code",
   "execution_count": null,
   "id": "4dfde0b0",
   "metadata": {},
   "outputs": [],
   "source": []
  },
  {
   "cell_type": "code",
   "execution_count": 2,
   "id": "ef6bf551",
   "metadata": {},
   "outputs": [
    {
     "name": "stdout",
     "output_type": "stream",
     "text": [
      "Area: 28.274333882308138\n",
      "Area: 20\n",
      "Area: 6.0\n"
     ]
    }
   ],
   "source": [
    "shapes = [Circle(3), Rectangle(4, 5), Triangle(6, 2)]\n",
    "\n",
    "for shape in shapes:\n",
    "    print(f\"Area: {shape.area()}\")"
   ]
  },
  {
   "cell_type": "markdown",
   "id": "7c4910b9",
   "metadata": {},
   "source": [
    "## Method Overloading"
   ]
  },
  {
   "cell_type": "markdown",
   "id": "b129eb4f",
   "metadata": {},
   "source": [
    "- Method overloading allows a single method name to be used for multiple methods that differ in the number or types of their parameters. \n",
    "- Python does not support traditional method overloading like some other languages, but it can be simulated using default parameter values and/or variable-length arguments."
   ]
  },
  {
   "cell_type": "code",
   "execution_count": 9,
   "id": "c798d344",
   "metadata": {},
   "outputs": [],
   "source": [
    "class MathOperations:\n",
    "    def add(self, a, b):\n",
    "        return a + b\n",
    "\n",
    "    def add(self, a, b, c):\n",
    "        return a + b + c"
   ]
  },
  {
   "cell_type": "code",
   "execution_count": 10,
   "id": "af829c50",
   "metadata": {},
   "outputs": [],
   "source": [
    "math_ops = MathOperations()"
   ]
  },
  {
   "cell_type": "code",
   "execution_count": 11,
   "id": "c0987bed",
   "metadata": {},
   "outputs": [
    {
     "data": {
      "text/plain": [
       "<__main__.MathOperations at 0x10f021c40>"
      ]
     },
     "execution_count": 11,
     "metadata": {},
     "output_type": "execute_result"
    }
   ],
   "source": [
    "math_ops"
   ]
  },
  {
   "cell_type": "code",
   "execution_count": 12,
   "id": "d562aa46",
   "metadata": {},
   "outputs": [
    {
     "ename": "TypeError",
     "evalue": "add() missing 1 required positional argument: 'c'",
     "output_type": "error",
     "traceback": [
      "\u001b[0;31m---------------------------------------------------------------------------\u001b[0m",
      "\u001b[0;31mTypeError\u001b[0m                                 Traceback (most recent call last)",
      "Cell \u001b[0;32mIn[12], line 1\u001b[0m\n\u001b[0;32m----> 1\u001b[0m \u001b[38;5;28mprint\u001b[39m(\u001b[43mmath_ops\u001b[49m\u001b[38;5;241;43m.\u001b[39;49m\u001b[43madd\u001b[49m\u001b[43m(\u001b[49m\u001b[38;5;241;43m2\u001b[39;49m\u001b[43m,\u001b[49m\u001b[43m \u001b[49m\u001b[38;5;241;43m3\u001b[39;49m\u001b[43m)\u001b[49m)\n",
      "\u001b[0;31mTypeError\u001b[0m: add() missing 1 required positional argument: 'c'"
     ]
    }
   ],
   "source": [
    "print(math_ops.add(2, 3))          "
   ]
  },
  {
   "cell_type": "code",
   "execution_count": 13,
   "id": "fd864ef5",
   "metadata": {},
   "outputs": [
    {
     "name": "stdout",
     "output_type": "stream",
     "text": [
      "10\n"
     ]
    }
   ],
   "source": [
    "print(math_ops.add(2, 3, 5))"
   ]
  },
  {
   "cell_type": "markdown",
   "id": "75251465",
   "metadata": {},
   "source": [
    "## Polymorphism with inbuilt functions"
   ]
  },
  {
   "cell_type": "code",
   "execution_count": 15,
   "id": "048b1673",
   "metadata": {},
   "outputs": [
    {
     "name": "stdout",
     "output_type": "stream",
     "text": [
      "5\n",
      "3\n",
      "2\n"
     ]
    }
   ],
   "source": [
    "# len() function\n",
    "print(len(\"hello\"))     # Output: 5\n",
    "print(len([1, 2, 3]))    # Output: 3\n",
    "print(len({\"a\": 1, \"b\": 2}))  # Output: 2"
   ]
  },
  {
   "cell_type": "code",
   "execution_count": 16,
   "id": "bc84e7a9",
   "metadata": {},
   "outputs": [
    {
     "data": {
      "text/plain": [
       "'10'"
      ]
     },
     "execution_count": 16,
     "metadata": {},
     "output_type": "execute_result"
    }
   ],
   "source": [
    "# str() function\n",
    "str(10)          # Output: \"10\""
   ]
  },
  {
   "cell_type": "code",
   "execution_count": 18,
   "id": "fe0713ab",
   "metadata": {},
   "outputs": [
    {
     "data": {
      "text/plain": [
       "'[1, 2, 3]'"
      ]
     },
     "execution_count": 18,
     "metadata": {},
     "output_type": "execute_result"
    }
   ],
   "source": [
    "str([1, 2, 3])   # Output: \"[1, 2, 3]\""
   ]
  },
  {
   "cell_type": "code",
   "execution_count": 20,
   "id": "b456aa6c",
   "metadata": {},
   "outputs": [
    {
     "data": {
      "text/plain": [
       "\"{'a': 1, 'b': 2}\""
      ]
     },
     "execution_count": 20,
     "metadata": {},
     "output_type": "execute_result"
    }
   ],
   "source": [
    "str({\"a\": 1, \"b\": 2}) # Output: \"{'a': 1, 'b': 2}\""
   ]
  },
  {
   "cell_type": "markdown",
   "id": "ef8bdc4d",
   "metadata": {},
   "source": [
    "# Polymorphism in Data Science"
   ]
  },
  {
   "cell_type": "markdown",
   "id": "dd4ff8af",
   "metadata": {},
   "source": [
    "- In data science, polymorphism may not be as commonly used as in object-oriented programming, but some aspects of polymorphism can be observed in certain contexts.\n",
    "- Data analysis often involves working with various data types and structures, and the ability to apply operations or functions uniformly across different data formats can be considered a form of polymorphism."
   ]
  },
  {
   "cell_type": "markdown",
   "id": "8ce842f6",
   "metadata": {},
   "source": [
    "**Operations on Different Data Types:**\n",
    "- In data science, you may perform operations on different data types like numbers, strings, lists, arrays, or DataFrames.\n",
    "- Functions or operations that can handle multiple data types and provide consistent results regardless of the input type can be seen as polymorphic."
   ]
  },
  {
   "cell_type": "code",
   "execution_count": 21,
   "id": "0905efcc",
   "metadata": {},
   "outputs": [],
   "source": [
    "# Polymorphic behavior with addition operation\n",
    "result1 = 2 + 3           # (integers)\n",
    "result2 = \"Hello, \" + \"world!\"   #  (strings)\n",
    "result3 = [1, 2, 3] + [4, 5, 6]  # (lists)"
   ]
  },
  {
   "cell_type": "code",
   "execution_count": 22,
   "id": "960c25de",
   "metadata": {},
   "outputs": [
    {
     "name": "stdout",
     "output_type": "stream",
     "text": [
      "5\n",
      "Hello, world!\n",
      "[1, 2, 3, 4, 5, 6]\n"
     ]
    }
   ],
   "source": [
    "print(result1)\n",
    "print(result2)\n",
    "print(result3)"
   ]
  },
  {
   "cell_type": "code",
   "execution_count": null,
   "id": "809e0bd8",
   "metadata": {},
   "outputs": [],
   "source": []
  },
  {
   "cell_type": "code",
   "execution_count": null,
   "id": "616d2412",
   "metadata": {},
   "outputs": [],
   "source": []
  },
  {
   "cell_type": "code",
   "execution_count": null,
   "id": "ef622965",
   "metadata": {},
   "outputs": [],
   "source": []
  },
  {
   "cell_type": "code",
   "execution_count": null,
   "id": "3f010bfe",
   "metadata": {},
   "outputs": [],
   "source": []
  },
  {
   "cell_type": "markdown",
   "id": "5d516c19",
   "metadata": {},
   "source": [
    "**Aggregation Functions:**\n",
    "- Aggregation functions like sum(), mean(), max(), etc., can be applied to different data structures such as lists, arrays, or DataFrames.\n",
    "- These functions demonstrate polymorphic behavior as they can operate on various data types and produce meaningful results."
   ]
  },
  {
   "cell_type": "code",
   "execution_count": 13,
   "id": "55390b7c",
   "metadata": {},
   "outputs": [],
   "source": [
    "import numpy as np\n",
    "\n",
    "# Polymorphic behavior with aggregation functions\n",
    "numbers = [1, 2, 3, 4, 5]\n",
    "result1 = sum(numbers)        #  (list)\n",
    "result2 = np.mean(numbers)    # (numpy array)\n"
   ]
  },
  {
   "cell_type": "code",
   "execution_count": 14,
   "id": "b97b89b8",
   "metadata": {},
   "outputs": [
    {
     "name": "stdout",
     "output_type": "stream",
     "text": [
      "15\n",
      "3.0\n"
     ]
    }
   ],
   "source": [
    "print(result1)\n",
    "print(result2)"
   ]
  },
  {
   "cell_type": "markdown",
   "id": "9c2a7b1f",
   "metadata": {},
   "source": [
    "**Handling Missing Data:**\n",
    "- When dealing with datasets, it's common to encounter missing data. \n",
    "- Polymorphic behavior can be observed when functions or methods handle missing data gracefully, regardless of the data structure."
   ]
  },
  {
   "cell_type": "code",
   "execution_count": 23,
   "id": "9ead2ff6",
   "metadata": {},
   "outputs": [],
   "source": [
    "import pandas as pd\n",
    "\n",
    "# Polymorphic behavior in handling missing data\n",
    "data = {'A': [1, 2, None, 4],\n",
    "        'B': [5, None, 7, 8]}\n",
    "df = pd.DataFrame(data)"
   ]
  },
  {
   "cell_type": "code",
   "execution_count": 24,
   "id": "8411ae98",
   "metadata": {},
   "outputs": [
    {
     "data": {
      "text/html": [
       "<div>\n",
       "<style scoped>\n",
       "    .dataframe tbody tr th:only-of-type {\n",
       "        vertical-align: middle;\n",
       "    }\n",
       "\n",
       "    .dataframe tbody tr th {\n",
       "        vertical-align: top;\n",
       "    }\n",
       "\n",
       "    .dataframe thead th {\n",
       "        text-align: right;\n",
       "    }\n",
       "</style>\n",
       "<table border=\"1\" class=\"dataframe\">\n",
       "  <thead>\n",
       "    <tr style=\"text-align: right;\">\n",
       "      <th></th>\n",
       "      <th>A</th>\n",
       "      <th>B</th>\n",
       "    </tr>\n",
       "  </thead>\n",
       "  <tbody>\n",
       "    <tr>\n",
       "      <th>0</th>\n",
       "      <td>1.0</td>\n",
       "      <td>5.0</td>\n",
       "    </tr>\n",
       "    <tr>\n",
       "      <th>1</th>\n",
       "      <td>2.0</td>\n",
       "      <td>NaN</td>\n",
       "    </tr>\n",
       "    <tr>\n",
       "      <th>2</th>\n",
       "      <td>NaN</td>\n",
       "      <td>7.0</td>\n",
       "    </tr>\n",
       "    <tr>\n",
       "      <th>3</th>\n",
       "      <td>4.0</td>\n",
       "      <td>8.0</td>\n",
       "    </tr>\n",
       "  </tbody>\n",
       "</table>\n",
       "</div>"
      ],
      "text/plain": [
       "     A    B\n",
       "0  1.0  5.0\n",
       "1  2.0  NaN\n",
       "2  NaN  7.0\n",
       "3  4.0  8.0"
      ]
     },
     "execution_count": 24,
     "metadata": {},
     "output_type": "execute_result"
    }
   ],
   "source": [
    "df"
   ]
  },
  {
   "cell_type": "code",
   "execution_count": 25,
   "id": "87ac3b05",
   "metadata": {},
   "outputs": [],
   "source": [
    "result1 = df.mean()   # Output: Calculates mean for each column, ignoring missing values\n",
    "result2 = df.sum()    # Output: Calculates sum for each column, treating missing values as zero"
   ]
  },
  {
   "cell_type": "code",
   "execution_count": 26,
   "id": "aad72e84",
   "metadata": {},
   "outputs": [
    {
     "data": {
      "text/plain": [
       "A    2.333333\n",
       "B    6.666667\n",
       "dtype: float64"
      ]
     },
     "execution_count": 26,
     "metadata": {},
     "output_type": "execute_result"
    }
   ],
   "source": [
    "result1"
   ]
  },
  {
   "cell_type": "code",
   "execution_count": 27,
   "id": "d0f1ccb5",
   "metadata": {},
   "outputs": [
    {
     "data": {
      "text/plain": [
       "A     7.0\n",
       "B    20.0\n",
       "dtype: float64"
      ]
     },
     "execution_count": 27,
     "metadata": {},
     "output_type": "execute_result"
    }
   ],
   "source": [
    "result2"
   ]
  },
  {
   "cell_type": "markdown",
   "id": "c06ed530",
   "metadata": {},
   "source": [
    "**Function Application to Columns or Rows:**\n",
    "- In data analysis libraries like pandas, you can apply functions to columns or rows of a DataFrame.\n",
    "- The function applied may vary depending on the data type of each column, and this can be considered a form of polymorphism"
   ]
  },
  {
   "cell_type": "code",
   "execution_count": 28,
   "id": "d2457b31",
   "metadata": {},
   "outputs": [],
   "source": [
    "import pandas as pd\n",
    "\n",
    "# Polymorphic behavior with function application in pandas\n",
    "data = {'A': [1, 2, 3, 4],\n",
    "        'B': ['apple', 'banana', 'cherry', 'date']}\n",
    "df = pd.DataFrame(data)"
   ]
  },
  {
   "cell_type": "code",
   "execution_count": 31,
   "id": "ede278fe",
   "metadata": {},
   "outputs": [
    {
     "data": {
      "text/html": [
       "<div>\n",
       "<style scoped>\n",
       "    .dataframe tbody tr th:only-of-type {\n",
       "        vertical-align: middle;\n",
       "    }\n",
       "\n",
       "    .dataframe tbody tr th {\n",
       "        vertical-align: top;\n",
       "    }\n",
       "\n",
       "    .dataframe thead th {\n",
       "        text-align: right;\n",
       "    }\n",
       "</style>\n",
       "<table border=\"1\" class=\"dataframe\">\n",
       "  <thead>\n",
       "    <tr style=\"text-align: right;\">\n",
       "      <th></th>\n",
       "      <th>A</th>\n",
       "      <th>B</th>\n",
       "    </tr>\n",
       "  </thead>\n",
       "  <tbody>\n",
       "    <tr>\n",
       "      <th>0</th>\n",
       "      <td>1</td>\n",
       "      <td>apple</td>\n",
       "    </tr>\n",
       "    <tr>\n",
       "      <th>1</th>\n",
       "      <td>2</td>\n",
       "      <td>banana</td>\n",
       "    </tr>\n",
       "    <tr>\n",
       "      <th>2</th>\n",
       "      <td>3</td>\n",
       "      <td>cherry</td>\n",
       "    </tr>\n",
       "    <tr>\n",
       "      <th>3</th>\n",
       "      <td>4</td>\n",
       "      <td>date</td>\n",
       "    </tr>\n",
       "  </tbody>\n",
       "</table>\n",
       "</div>"
      ],
      "text/plain": [
       "   A       B\n",
       "0  1   apple\n",
       "1  2  banana\n",
       "2  3  cherry\n",
       "3  4    date"
      ]
     },
     "execution_count": 31,
     "metadata": {},
     "output_type": "execute_result"
    }
   ],
   "source": [
    "df"
   ]
  },
  {
   "cell_type": "code",
   "execution_count": 32,
   "id": "be32e8f1",
   "metadata": {},
   "outputs": [],
   "source": [
    "# Apply different functions to different columns\n",
    "result1 = df['A'].mean()       # Output: 2.5 (mean of integers)\n",
    "result2 = df['B'].str.upper()  # Output: ['APPLE', 'BANANA', 'CHERRY', 'DATE'] (uppercase strings)"
   ]
  },
  {
   "cell_type": "code",
   "execution_count": 33,
   "id": "a745d8d4",
   "metadata": {},
   "outputs": [
    {
     "data": {
      "text/plain": [
       "2.5"
      ]
     },
     "execution_count": 33,
     "metadata": {},
     "output_type": "execute_result"
    }
   ],
   "source": [
    "result1"
   ]
  },
  {
   "cell_type": "code",
   "execution_count": 34,
   "id": "b0de520e",
   "metadata": {},
   "outputs": [
    {
     "data": {
      "text/plain": [
       "0     APPLE\n",
       "1    BANANA\n",
       "2    CHERRY\n",
       "3      DATE\n",
       "Name: B, dtype: object"
      ]
     },
     "execution_count": 34,
     "metadata": {},
     "output_type": "execute_result"
    }
   ],
   "source": [
    "result2"
   ]
  },
  {
   "cell_type": "code",
   "execution_count": null,
   "id": "4b2abb9d",
   "metadata": {},
   "outputs": [],
   "source": []
  }
 ],
 "metadata": {
  "kernelspec": {
   "display_name": "Python 3 (ipykernel)",
   "language": "python",
   "name": "python3"
  },
  "language_info": {
   "codemirror_mode": {
    "name": "ipython",
    "version": 3
   },
   "file_extension": ".py",
   "mimetype": "text/x-python",
   "name": "python",
   "nbconvert_exporter": "python",
   "pygments_lexer": "ipython3",
   "version": "3.9.16"
  },
  "vp": {
   "vp_config_version": "1.0.0",
   "vp_menu_width": 273,
   "vp_note_display": false,
   "vp_note_width": 0,
   "vp_position": {
    "width": 278
   },
   "vp_section_display": false,
   "vp_signature": "VisualPython"
  }
 },
 "nbformat": 4,
 "nbformat_minor": 5
}

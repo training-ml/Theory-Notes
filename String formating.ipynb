{
 "cells": [
  {
   "cell_type": "code",
   "execution_count": 1,
   "id": "c53517ad",
   "metadata": {},
   "outputs": [],
   "source": [
    "a= 3"
   ]
  },
  {
   "cell_type": "code",
   "execution_count": 2,
   "id": "14f0c329",
   "metadata": {},
   "outputs": [
    {
     "data": {
      "text/plain": [
       "int"
      ]
     },
     "execution_count": 2,
     "metadata": {},
     "output_type": "execute_result"
    }
   ],
   "source": [
    "type(3)"
   ]
  },
  {
   "cell_type": "code",
   "execution_count": 3,
   "id": "75613952",
   "metadata": {},
   "outputs": [],
   "source": [
    "b = 3.0"
   ]
  },
  {
   "cell_type": "code",
   "execution_count": 4,
   "id": "f20f5f28",
   "metadata": {},
   "outputs": [
    {
     "data": {
      "text/plain": [
       "float"
      ]
     },
     "execution_count": 4,
     "metadata": {},
     "output_type": "execute_result"
    }
   ],
   "source": [
    "type(b)"
   ]
  },
  {
   "cell_type": "code",
   "execution_count": 5,
   "id": "6ed232e5",
   "metadata": {},
   "outputs": [],
   "source": [
    "c = \"3\""
   ]
  },
  {
   "cell_type": "code",
   "execution_count": 6,
   "id": "f67befd8",
   "metadata": {},
   "outputs": [
    {
     "data": {
      "text/plain": [
       "str"
      ]
     },
     "execution_count": 6,
     "metadata": {},
     "output_type": "execute_result"
    }
   ],
   "source": [
    "type(c)"
   ]
  },
  {
   "cell_type": "code",
   "execution_count": 7,
   "id": "3189235f",
   "metadata": {},
   "outputs": [],
   "source": [
    "d = \"3.0\""
   ]
  },
  {
   "cell_type": "code",
   "execution_count": 8,
   "id": "a1fe2706",
   "metadata": {},
   "outputs": [
    {
     "data": {
      "text/plain": [
       "str"
      ]
     },
     "execution_count": 8,
     "metadata": {},
     "output_type": "execute_result"
    }
   ],
   "source": [
    "type(d)"
   ]
  },
  {
   "cell_type": "code",
   "execution_count": null,
   "id": "8e7bc4bb",
   "metadata": {},
   "outputs": [],
   "source": [
    "set, dict, list, tuple"
   ]
  },
  {
   "cell_type": "code",
   "execution_count": 9,
   "id": "7e99a17c",
   "metadata": {},
   "outputs": [],
   "source": [
    "sets = {2,3,2,34,234,5,6}"
   ]
  },
  {
   "cell_type": "code",
   "execution_count": 10,
   "id": "4e800406",
   "metadata": {},
   "outputs": [
    {
     "data": {
      "text/plain": [
       "set"
      ]
     },
     "execution_count": 10,
     "metadata": {},
     "output_type": "execute_result"
    }
   ],
   "source": [
    "type(sets)"
   ]
  },
  {
   "cell_type": "code",
   "execution_count": 11,
   "id": "b283bea6",
   "metadata": {},
   "outputs": [],
   "source": [
    "dictionary = {\"name\":['Aman','Arun'], \n",
    "             \"Place\": ['goa', 'Mumbai']}"
   ]
  },
  {
   "cell_type": "code",
   "execution_count": 12,
   "id": "f105bdc0",
   "metadata": {},
   "outputs": [
    {
     "data": {
      "text/plain": [
       "dict"
      ]
     },
     "execution_count": 12,
     "metadata": {},
     "output_type": "execute_result"
    }
   ],
   "source": [
    "type(dictionary)"
   ]
  },
  {
   "cell_type": "code",
   "execution_count": null,
   "id": "97bd1bbb",
   "metadata": {},
   "outputs": [],
   "source": []
  },
  {
   "cell_type": "code",
   "execution_count": 13,
   "id": "9ae95c5a",
   "metadata": {},
   "outputs": [],
   "source": [
    "p = [2,3,4,5,6,7]"
   ]
  },
  {
   "cell_type": "code",
   "execution_count": 14,
   "id": "05989a2f",
   "metadata": {},
   "outputs": [
    {
     "data": {
      "text/plain": [
       "list"
      ]
     },
     "execution_count": 14,
     "metadata": {},
     "output_type": "execute_result"
    }
   ],
   "source": [
    "type(p)"
   ]
  },
  {
   "cell_type": "code",
   "execution_count": 15,
   "id": "6c366b4e",
   "metadata": {},
   "outputs": [],
   "source": [
    "q = (1,2,3,4,5,6)"
   ]
  },
  {
   "cell_type": "code",
   "execution_count": 16,
   "id": "43eb176b",
   "metadata": {},
   "outputs": [
    {
     "data": {
      "text/plain": [
       "tuple"
      ]
     },
     "execution_count": 16,
     "metadata": {},
     "output_type": "execute_result"
    }
   ],
   "source": [
    "type(q)"
   ]
  },
  {
   "cell_type": "code",
   "execution_count": null,
   "id": "b0262a6a",
   "metadata": {},
   "outputs": [],
   "source": []
  },
  {
   "cell_type": "code",
   "execution_count": null,
   "id": "179207c3",
   "metadata": {},
   "outputs": [],
   "source": [
    "Hackerrank.com ===> register yourself as a developer\n",
    "python"
   ]
  },
  {
   "cell_type": "code",
   "execution_count": null,
   "id": "1cff9f1b",
   "metadata": {},
   "outputs": [],
   "source": []
  },
  {
   "cell_type": "code",
   "execution_count": null,
   "id": "8faa0163",
   "metadata": {},
   "outputs": [],
   "source": []
  },
  {
   "cell_type": "code",
   "execution_count": null,
   "id": "35dce3a6",
   "metadata": {},
   "outputs": [],
   "source": []
  },
  {
   "cell_type": "markdown",
   "id": "657c47c2",
   "metadata": {},
   "source": [
    "- String formatting in Python allows you to create formatted strings by inserting values into a placeholder within a string.\n",
    "- There are multiple ways to achieve string formatting in Python."
   ]
  },
  {
   "cell_type": "markdown",
   "id": "a4878bf7",
   "metadata": {},
   "source": [
    "- Here are some common methods:"
   ]
  },
  {
   "cell_type": "markdown",
   "id": "dea773e9",
   "metadata": {},
   "source": [
    "### Using % Operator (Old Style Formatting):\n"
   ]
  },
  {
   "cell_type": "markdown",
   "id": "85e2e129",
   "metadata": {},
   "source": [
    "- The % operator is the older method of string formatting in Python. \n",
    "- It uses placeholders with % followed by format specifiers to indicate the type of values to be inserted into the string."
   ]
  },
  {
   "cell_type": "code",
   "execution_count": 18,
   "id": "d948ac1c",
   "metadata": {},
   "outputs": [
    {
     "name": "stdout",
     "output_type": "stream",
     "text": [
      "My name is John, and I am 30 years old.\n"
     ]
    }
   ],
   "source": [
    "name = \"John\"\n",
    "age = 30\n",
    "name_2 = \"Rohit\"\n",
    "age_2 = 20\n",
    "formatted_string = \"My name is %s, and I am %d years old.\" % (name, age)\n",
    "print(formatted_string)"
   ]
  },
  {
   "cell_type": "code",
   "execution_count": 19,
   "id": "c75605fd",
   "metadata": {},
   "outputs": [
    {
     "data": {
      "text/plain": [
       "'My name is Rohit, and I am 20 years old.'"
      ]
     },
     "execution_count": 19,
     "metadata": {},
     "output_type": "execute_result"
    }
   ],
   "source": [
    "\"My name is %s, and I am %d years old.\" % (name_2, age_2)"
   ]
  },
  {
   "cell_type": "code",
   "execution_count": 20,
   "id": "405740c0",
   "metadata": {},
   "outputs": [],
   "source": [
    "name_3 = \"George\"\n",
    "name_4 = \"Paul\""
   ]
  },
  {
   "cell_type": "code",
   "execution_count": 21,
   "id": "52b457e0",
   "metadata": {},
   "outputs": [
    {
     "data": {
      "text/plain": [
       "'My first name is George and my last name is Paul'"
      ]
     },
     "execution_count": 21,
     "metadata": {},
     "output_type": "execute_result"
    }
   ],
   "source": [
    "\"My first name is %s and my last name is %s\"%(name_3, name_4) "
   ]
  },
  {
   "cell_type": "code",
   "execution_count": null,
   "id": "6bacf97c",
   "metadata": {},
   "outputs": [],
   "source": []
  },
  {
   "cell_type": "markdown",
   "id": "ec097756",
   "metadata": {},
   "source": [
    "### Using .format() Method (New Style Formatting):\n"
   ]
  },
  {
   "cell_type": "code",
   "execution_count": 2,
   "id": "d260d46e",
   "metadata": {},
   "outputs": [
    {
     "name": "stdout",
     "output_type": "stream",
     "text": [
      "My name is John, and I am 30 years old.\n"
     ]
    }
   ],
   "source": [
    "name = \"John\"\n",
    "age = 30\n",
    "formatted_string = \"My name is {}, and I am {} years old.\".format(name, age)\n",
    "print(formatted_string)"
   ]
  },
  {
   "cell_type": "markdown",
   "id": "90fe52fe",
   "metadata": {},
   "source": [
    "**You can also place the positional placeholders for more clarity**"
   ]
  },
  {
   "cell_type": "code",
   "execution_count": 22,
   "id": "b9e84d0b",
   "metadata": {},
   "outputs": [
    {
     "name": "stdout",
     "output_type": "stream",
     "text": [
      "My name is John, and I am 30 years old. Hi John!\n"
     ]
    }
   ],
   "source": [
    "name = \"John\"\n",
    "age = 30\n",
    "formatted_string = \"My name is {0}, and I am {1} years old. Hi {0}!\".format(name, age)\n",
    "print(formatted_string)"
   ]
  },
  {
   "cell_type": "markdown",
   "id": "fb25ea1e",
   "metadata": {},
   "source": [
    "### Using f-strings (Python 3.6+):\n"
   ]
  },
  {
   "cell_type": "markdown",
   "id": "922ff692",
   "metadata": {},
   "source": [
    "- f-strings are an even more convenient and readable method of string formatting introduced in Python 3.6. \n",
    "- They allow you to directly embed expressions inside curly braces {} within the string."
   ]
  },
  {
   "cell_type": "code",
   "execution_count": 23,
   "id": "444ce54e",
   "metadata": {},
   "outputs": [
    {
     "name": "stdout",
     "output_type": "stream",
     "text": [
      "My name is John, and I am 30 years old.\n"
     ]
    }
   ],
   "source": [
    "name = \"John\"\n",
    "age = 30\n",
    "formatted_string = f\"My name is {name}, and I am {age} years old.\"\n",
    "print(formatted_string)"
   ]
  },
  {
   "cell_type": "code",
   "execution_count": 24,
   "id": "b4eff05d",
   "metadata": {},
   "outputs": [
    {
     "name": "stdout",
     "output_type": "stream",
     "text": [
      "my name is John and I am 30 years old\n"
     ]
    }
   ],
   "source": [
    "print(f\"my name is {name} and I am {age} years old\")"
   ]
  },
  {
   "cell_type": "code",
   "execution_count": null,
   "id": "7c303ecf",
   "metadata": {},
   "outputs": [],
   "source": []
  },
  {
   "cell_type": "code",
   "execution_count": 25,
   "id": "564aeaa5",
   "metadata": {},
   "outputs": [],
   "source": [
    "def sum_all(a,b,c):\n",
    "    add = a+b+c\n",
    "    print(f\"the number are a : {a}, b: {b} and c : {c} and the sum of the numbers is {add}\")"
   ]
  },
  {
   "cell_type": "code",
   "execution_count": 26,
   "id": "d5274ed8",
   "metadata": {},
   "outputs": [
    {
     "name": "stdout",
     "output_type": "stream",
     "text": [
      "the number are a : 2, b: 3 and c : 4 and the sum of the numbers is 9\n"
     ]
    }
   ],
   "source": [
    "sum_all(2,3,4)"
   ]
  },
  {
   "cell_type": "code",
   "execution_count": null,
   "id": "a50c75f2",
   "metadata": {},
   "outputs": [],
   "source": []
  },
  {
   "cell_type": "code",
   "execution_count": null,
   "id": "82cc3d7d",
   "metadata": {},
   "outputs": [],
   "source": []
  },
  {
   "cell_type": "code",
   "execution_count": null,
   "id": "473864a4",
   "metadata": {},
   "outputs": [],
   "source": []
  }
 ],
 "metadata": {
  "kernelspec": {
   "display_name": "Python 3 (ipykernel)",
   "language": "python",
   "name": "python3"
  },
  "language_info": {
   "codemirror_mode": {
    "name": "ipython",
    "version": 3
   },
   "file_extension": ".py",
   "mimetype": "text/x-python",
   "name": "python",
   "nbconvert_exporter": "python",
   "pygments_lexer": "ipython3",
   "version": "3.9.16"
  },
  "vp": {
   "vp_config_version": "1.0.0",
   "vp_menu_width": 273,
   "vp_note_display": false,
   "vp_note_width": 0,
   "vp_position": {
    "width": 278
   },
   "vp_section_display": false,
   "vp_signature": "VisualPython"
  }
 },
 "nbformat": 4,
 "nbformat_minor": 5
}

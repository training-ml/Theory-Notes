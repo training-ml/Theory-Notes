{
 "cells": [
  {
   "cell_type": "markdown",
   "id": "c8ccf889",
   "metadata": {},
   "source": [
    "- Recursion is a programming technique where a function calls itself to solve a problem by breaking it down into smaller, more manageable subproblems. \n",
    "- In essence, it is a way of solving problems by dividing them into smaller instances of the same problem until a base case is reached, at which point the recursion \"unwinds\" and returns the results of the smaller subproblems to solve the original problem.\n",
    "\n",
    "- Recursion is commonly used in algorithms and programming tasks that involve repetitive and self-referential processes.\n",
    "- It is especially useful when dealing with problems that have a recursive or fractal-like structure."
   ]
  },
  {
   "cell_type": "code",
   "execution_count": 1,
   "id": "4caf83ba",
   "metadata": {},
   "outputs": [
    {
     "name": "stdout",
     "output_type": "stream",
     "text": [
      "120\n"
     ]
    }
   ],
   "source": [
    "def factorial(n):\n",
    "    if n == 0:\n",
    "        return 1  # Base case: factorial(0) is 1\n",
    "    else:\n",
    "        return n * factorial(n - 1)  # Recursive case: factorial(n) = n * factorial(n-1)\n",
    "\n",
    "# Example usage:\n",
    "result = factorial(5)  # 5! = 5 * 4 * 3 * 2 * 1 = 120\n",
    "print(result)\n"
   ]
  },
  {
   "cell_type": "code",
   "execution_count": 32,
   "id": "da1d1613",
   "metadata": {},
   "outputs": [
    {
     "name": "stdout",
     "output_type": "stream",
     "text": [
      "The time of execution of the above code is -0.0001 seconds\n",
      "120\n"
     ]
    }
   ],
   "source": [
    "start_time_1 = time.time()\n",
    "result = factorial(5)  # 5! = 5 * 4 * 3 * 2 * 1 = 120\n",
    "end_time_1 = time.time()\n",
    "print('The time of execution of the above code is {} seconds'.format(round(start_time_1-end_time_1,6)))\n",
    "print(result)"
   ]
  },
  {
   "cell_type": "code",
   "execution_count": null,
   "id": "17e0d536",
   "metadata": {},
   "outputs": [],
   "source": []
  },
  {
   "cell_type": "markdown",
   "id": "e50e443d",
   "metadata": {},
   "source": [
    "## Advantages of Recursion"
   ]
  },
  {
   "cell_type": "markdown",
   "id": "0ec514db",
   "metadata": {},
   "source": [
    " **Simplicity and Clarity** \n",
    "- Recursive solutions can often be more intuitive and easier to understand than iterative solutions, especially for problems with a recursive nature or those involving self-similar subproblems."
   ]
  },
  {
   "cell_type": "markdown",
   "id": "353c8f21",
   "metadata": {},
   "source": [
    " **Reduced Code Length** \n",
    "- Recursive solutions can sometimes be more concise than their iterative counterparts, as they focus on the high-level logic and delegate repetitive tasks to recursive calls."
   ]
  },
  {
   "cell_type": "markdown",
   "id": "db779cd3",
   "metadata": {},
   "source": [
    "**Example**"
   ]
  },
  {
   "cell_type": "code",
   "execution_count": 2,
   "id": "45a71fcc",
   "metadata": {},
   "outputs": [
    {
     "name": "stdout",
     "output_type": "stream",
     "text": [
      "15\n"
     ]
    }
   ],
   "source": [
    "def recursive_sum(arr, n):\n",
    "    if n == 0:\n",
    "        return 0  # Base case: When there are no elements to add, return 0\n",
    "    else:\n",
    "        return arr[n - 1] + recursive_sum(arr, n - 1)  # Recursive case: Add the last element and call with the rest\n",
    "\n",
    "# Example usage:\n",
    "my_array = [1, 2, 3, 4, 5]\n",
    "result = recursive_sum(my_array, len(my_array))\n",
    "print(result) "
   ]
  },
  {
   "cell_type": "code",
   "execution_count": null,
   "id": "ce3a6a41",
   "metadata": {},
   "outputs": [],
   "source": []
  },
  {
   "cell_type": "code",
   "execution_count": 2,
   "id": "0addb6dc",
   "metadata": {},
   "outputs": [
    {
     "name": "stdout",
     "output_type": "stream",
     "text": [
      "15\n"
     ]
    }
   ],
   "source": [
    "def iterative_sum(arr):\n",
    "    sum_result = 0\n",
    "    for num in arr:\n",
    "        sum_result = sum_result + num\n",
    "    return sum_result\n",
    "\n",
    "# Example usage:\n",
    "my_array = [1, 2, 3, 4, 5]\n",
    "result = iterative_sum(my_array)\n",
    "print(result)  "
   ]
  },
  {
   "cell_type": "code",
   "execution_count": null,
   "id": "5b46f3e3",
   "metadata": {},
   "outputs": [],
   "source": [
    "\n"
   ]
  },
  {
   "cell_type": "code",
   "execution_count": null,
   "id": "0918d974",
   "metadata": {},
   "outputs": [],
   "source": []
  },
  {
   "cell_type": "code",
   "execution_count": 3,
   "id": "e58bcfd4",
   "metadata": {},
   "outputs": [],
   "source": [
    "g1 = 60"
   ]
  },
  {
   "cell_type": "code",
   "execution_count": 4,
   "id": "c1342ba8",
   "metadata": {},
   "outputs": [
    {
     "data": {
      "text/plain": [
       "60"
      ]
     },
     "execution_count": 4,
     "metadata": {},
     "output_type": "execute_result"
    }
   ],
   "source": [
    "g1 "
   ]
  },
  {
   "cell_type": "code",
   "execution_count": 17,
   "id": "a6f4b3a6",
   "metadata": {},
   "outputs": [],
   "source": [
    "def fun():\n",
    "    global g1\n",
    "    g1 = 50\n",
    "    print(\"g1: \", g1)"
   ]
  },
  {
   "cell_type": "code",
   "execution_count": 18,
   "id": "e53dd1ea",
   "metadata": {},
   "outputs": [
    {
     "data": {
      "text/plain": [
       "60"
      ]
     },
     "execution_count": 18,
     "metadata": {},
     "output_type": "execute_result"
    }
   ],
   "source": [
    "g1"
   ]
  },
  {
   "cell_type": "code",
   "execution_count": 19,
   "id": "4480f7f3",
   "metadata": {},
   "outputs": [
    {
     "name": "stdout",
     "output_type": "stream",
     "text": [
      "g1:  50\n"
     ]
    }
   ],
   "source": [
    "fun()"
   ]
  },
  {
   "cell_type": "code",
   "execution_count": 20,
   "id": "ff6ab158",
   "metadata": {},
   "outputs": [
    {
     "data": {
      "text/plain": [
       "50"
      ]
     },
     "execution_count": 20,
     "metadata": {},
     "output_type": "execute_result"
    }
   ],
   "source": [
    "g1"
   ]
  },
  {
   "cell_type": "code",
   "execution_count": null,
   "id": "706b0c99",
   "metadata": {},
   "outputs": [],
   "source": []
  },
  {
   "cell_type": "code",
   "execution_count": null,
   "id": "6ae875d3",
   "metadata": {},
   "outputs": [],
   "source": []
  },
  {
   "cell_type": "code",
   "execution_count": null,
   "id": "d6ba4e08",
   "metadata": {},
   "outputs": [],
   "source": []
  },
  {
   "cell_type": "code",
   "execution_count": null,
   "id": "449005b1",
   "metadata": {},
   "outputs": [],
   "source": []
  },
  {
   "cell_type": "code",
   "execution_count": null,
   "id": "cdf71c9f",
   "metadata": {},
   "outputs": [],
   "source": []
  },
  {
   "cell_type": "code",
   "execution_count": null,
   "id": "35b34074",
   "metadata": {},
   "outputs": [],
   "source": []
  },
  {
   "cell_type": "code",
   "execution_count": null,
   "id": "c07e3339",
   "metadata": {},
   "outputs": [],
   "source": []
  },
  {
   "cell_type": "code",
   "execution_count": null,
   "id": "cf347818",
   "metadata": {},
   "outputs": [],
   "source": []
  },
  {
   "cell_type": "code",
   "execution_count": null,
   "id": "6f0822e4",
   "metadata": {},
   "outputs": [],
   "source": []
  },
  {
   "cell_type": "code",
   "execution_count": 10,
   "id": "9150c5d0",
   "metadata": {},
   "outputs": [],
   "source": [
    "def global_variable():\n",
    "    c1 = 10                    # local variable\n",
    "    print(\"c1 : \", c1+10)"
   ]
  },
  {
   "cell_type": "code",
   "execution_count": 11,
   "id": "85a6b083",
   "metadata": {},
   "outputs": [
    {
     "ename": "NameError",
     "evalue": "name 'c1' is not defined",
     "output_type": "error",
     "traceback": [
      "\u001b[0;31m---------------------------------------------------------------------------\u001b[0m",
      "\u001b[0;31mNameError\u001b[0m                                 Traceback (most recent call last)",
      "Cell \u001b[0;32mIn[11], line 1\u001b[0m\n\u001b[0;32m----> 1\u001b[0m \u001b[43mc1\u001b[49m\n",
      "\u001b[0;31mNameError\u001b[0m: name 'c1' is not defined"
     ]
    }
   ],
   "source": [
    "c1"
   ]
  },
  {
   "cell_type": "code",
   "execution_count": 12,
   "id": "009f415c",
   "metadata": {},
   "outputs": [
    {
     "name": "stdout",
     "output_type": "stream",
     "text": [
      "c1 :  20\n"
     ]
    }
   ],
   "source": [
    "global_variable()"
   ]
  },
  {
   "cell_type": "code",
   "execution_count": null,
   "id": "ed2cc8cf",
   "metadata": {},
   "outputs": [],
   "source": []
  },
  {
   "cell_type": "code",
   "execution_count": null,
   "id": "151edf60",
   "metadata": {},
   "outputs": [],
   "source": [
    "def fun():\n",
    "    "
   ]
  },
  {
   "cell_type": "code",
   "execution_count": null,
   "id": "611176c6",
   "metadata": {},
   "outputs": [],
   "source": []
  },
  {
   "cell_type": "code",
   "execution_count": null,
   "id": "93f67184",
   "metadata": {},
   "outputs": [],
   "source": []
  },
  {
   "cell_type": "code",
   "execution_count": null,
   "id": "3a7153a8",
   "metadata": {},
   "outputs": [],
   "source": []
  },
  {
   "cell_type": "code",
   "execution_count": null,
   "id": "bb600a90",
   "metadata": {},
   "outputs": [],
   "source": []
  },
  {
   "cell_type": "code",
   "execution_count": null,
   "id": "4c22f8a9",
   "metadata": {},
   "outputs": [],
   "source": []
  },
  {
   "cell_type": "code",
   "execution_count": null,
   "id": "0a7cf5ba",
   "metadata": {},
   "outputs": [],
   "source": []
  },
  {
   "cell_type": "code",
   "execution_count": null,
   "id": "2def8caf",
   "metadata": {},
   "outputs": [],
   "source": []
  },
  {
   "cell_type": "code",
   "execution_count": null,
   "id": "9113bdf0",
   "metadata": {},
   "outputs": [],
   "source": []
  },
  {
   "cell_type": "code",
   "execution_count": null,
   "id": "088229b4",
   "metadata": {},
   "outputs": [],
   "source": []
  },
  {
   "cell_type": "markdown",
   "id": "657ae2e2",
   "metadata": {},
   "source": [
    "## Disadvantages of Recursion"
   ]
  },
  {
   "cell_type": "markdown",
   "id": "53f506c1",
   "metadata": {},
   "source": [
    "- **Stack Overflow** : Recursive solutions can lead to stack overflow errors if the recursion depth becomes too large.\n",
    "- This happens when there are too many nested function calls, and the call stack exceeds its allocated memory."
   ]
  },
  {
   "cell_type": "code",
   "execution_count": 21,
   "id": "d1e72cf3",
   "metadata": {
    "scrolled": true
   },
   "outputs": [
    {
     "ename": "RecursionError",
     "evalue": "maximum recursion depth exceeded in comparison",
     "output_type": "error",
     "traceback": [
      "\u001b[0;31m---------------------------------------------------------------------------\u001b[0m",
      "\u001b[0;31mRecursionError\u001b[0m                            Traceback (most recent call last)",
      "Cell \u001b[0;32mIn[21], line 1\u001b[0m\n\u001b[0;32m----> 1\u001b[0m \u001b[43mfactorial\u001b[49m\u001b[43m(\u001b[49m\u001b[38;5;241;43m10000\u001b[39;49m\u001b[43m)\u001b[49m\n",
      "Cell \u001b[0;32mIn[1], line 5\u001b[0m, in \u001b[0;36mfactorial\u001b[0;34m(n)\u001b[0m\n\u001b[1;32m      3\u001b[0m     \u001b[38;5;28;01mreturn\u001b[39;00m \u001b[38;5;241m1\u001b[39m  \u001b[38;5;66;03m# Base case: factorial(0) is 1\u001b[39;00m\n\u001b[1;32m      4\u001b[0m \u001b[38;5;28;01melse\u001b[39;00m:\n\u001b[0;32m----> 5\u001b[0m     \u001b[38;5;28;01mreturn\u001b[39;00m n \u001b[38;5;241m*\u001b[39m \u001b[43mfactorial\u001b[49m\u001b[43m(\u001b[49m\u001b[43mn\u001b[49m\u001b[43m \u001b[49m\u001b[38;5;241;43m-\u001b[39;49m\u001b[43m \u001b[49m\u001b[38;5;241;43m1\u001b[39;49m\u001b[43m)\u001b[49m\n",
      "Cell \u001b[0;32mIn[1], line 5\u001b[0m, in \u001b[0;36mfactorial\u001b[0;34m(n)\u001b[0m\n\u001b[1;32m      3\u001b[0m     \u001b[38;5;28;01mreturn\u001b[39;00m \u001b[38;5;241m1\u001b[39m  \u001b[38;5;66;03m# Base case: factorial(0) is 1\u001b[39;00m\n\u001b[1;32m      4\u001b[0m \u001b[38;5;28;01melse\u001b[39;00m:\n\u001b[0;32m----> 5\u001b[0m     \u001b[38;5;28;01mreturn\u001b[39;00m n \u001b[38;5;241m*\u001b[39m \u001b[43mfactorial\u001b[49m\u001b[43m(\u001b[49m\u001b[43mn\u001b[49m\u001b[43m \u001b[49m\u001b[38;5;241;43m-\u001b[39;49m\u001b[43m \u001b[49m\u001b[38;5;241;43m1\u001b[39;49m\u001b[43m)\u001b[49m\n",
      "    \u001b[0;31m[... skipping similar frames: factorial at line 5 (2969 times)]\u001b[0m\n",
      "Cell \u001b[0;32mIn[1], line 5\u001b[0m, in \u001b[0;36mfactorial\u001b[0;34m(n)\u001b[0m\n\u001b[1;32m      3\u001b[0m     \u001b[38;5;28;01mreturn\u001b[39;00m \u001b[38;5;241m1\u001b[39m  \u001b[38;5;66;03m# Base case: factorial(0) is 1\u001b[39;00m\n\u001b[1;32m      4\u001b[0m \u001b[38;5;28;01melse\u001b[39;00m:\n\u001b[0;32m----> 5\u001b[0m     \u001b[38;5;28;01mreturn\u001b[39;00m n \u001b[38;5;241m*\u001b[39m \u001b[43mfactorial\u001b[49m\u001b[43m(\u001b[49m\u001b[43mn\u001b[49m\u001b[43m \u001b[49m\u001b[38;5;241;43m-\u001b[39;49m\u001b[43m \u001b[49m\u001b[38;5;241;43m1\u001b[39;49m\u001b[43m)\u001b[49m\n",
      "Cell \u001b[0;32mIn[1], line 2\u001b[0m, in \u001b[0;36mfactorial\u001b[0;34m(n)\u001b[0m\n\u001b[1;32m      1\u001b[0m \u001b[38;5;28;01mdef\u001b[39;00m \u001b[38;5;21mfactorial\u001b[39m(n):\n\u001b[0;32m----> 2\u001b[0m     \u001b[38;5;28;01mif\u001b[39;00m \u001b[43mn\u001b[49m\u001b[43m \u001b[49m\u001b[38;5;241;43m==\u001b[39;49m\u001b[43m \u001b[49m\u001b[38;5;241;43m0\u001b[39;49m:\n\u001b[1;32m      3\u001b[0m         \u001b[38;5;28;01mreturn\u001b[39;00m \u001b[38;5;241m1\u001b[39m  \u001b[38;5;66;03m# Base case: factorial(0) is 1\u001b[39;00m\n\u001b[1;32m      4\u001b[0m     \u001b[38;5;28;01melse\u001b[39;00m:\n",
      "\u001b[0;31mRecursionError\u001b[0m: maximum recursion depth exceeded in comparison"
     ]
    }
   ],
   "source": [
    "factorial(10000)"
   ]
  },
  {
   "cell_type": "markdown",
   "id": "4e0aed7d",
   "metadata": {},
   "source": [
    "- If you run this code with large_number = 10000, you will encounter a \n",
    "        \n",
    "        \"RecursionError: maximum recursion depth exceeded\" error. \n",
    "        \n",
    " - This is because the recursive solution attempts to make too many nested function calls, and the call stack eventually exceeds its allocated memory, leading to a stack overflow error.\n",
    "\n",
    "- To avoid this error, you can use an iterative or tail-recursive approach for calculating the factorial of large numbers, as they do not involve excessive nested function calls and do not consume additional stack space."
   ]
  },
  {
   "cell_type": "code",
   "execution_count": 23,
   "id": "eb5fee6d",
   "metadata": {},
   "outputs": [],
   "source": [
    "import time"
   ]
  },
  {
   "cell_type": "code",
   "execution_count": 29,
   "id": "cabef36a",
   "metadata": {},
   "outputs": [
    {
     "name": "stdout",
     "output_type": "stream",
     "text": [
      "The time of execution of this code is 3e-06 seconds\n",
      "120\n"
     ]
    }
   ],
   "source": [
    "def factorial_iterative(n):\n",
    "    start_time = time.time()\n",
    "    if n < 0:\n",
    "        return None  # Factorial is not defined for negative numbers\n",
    "\n",
    "    result = 1\n",
    "    for i in range(1, n + 1):\n",
    "        result *= i\n",
    "    \n",
    "    end_time = time.time()\n",
    "    print(\"The time of execution of this code is {} seconds\".format(round(end_time-start_time,6)))\n",
    "\n",
    "    return result\n",
    "\n",
    "# Example usage:\n",
    "result = factorial_iterative(5)\n",
    "print(result) "
   ]
  },
  {
   "cell_type": "markdown",
   "id": "39da9153",
   "metadata": {},
   "source": [
    "- **Performance Overhead** : Recursive solutions can sometimes be less efficient than iterative solutions due to the overhead of maintaining the call stack and making repeated function calls."
   ]
  },
  {
   "cell_type": "code",
   "execution_count": 22,
   "id": "404705df",
   "metadata": {},
   "outputs": [
    {
     "name": "stdout",
     "output_type": "stream",
     "text": [
      "The 30th Fibonacci number is: 832040\n",
      "The time of execution of this code is 0.17975902557373047 seconds\n"
     ]
    }
   ],
   "source": [
    "def fibonacci_recursive(n):\n",
    "    if n <= 0:\n",
    "        return None  # Error handling for non-positive integers\n",
    "    elif n == 1 or n == 2:\n",
    "        return 1  # Base case: Fibonacci of 1 or 2 is 1\n",
    "    else:\n",
    "        \n",
    "        return fibonacci_recursive(n - 1) + fibonacci_recursive(n - 2)  # Recursive case\n",
    "\n",
    "# Example usage:\n",
    "n = 30\n",
    "start_time = time.time()\n",
    "result = fibonacci_recursive(n)\n",
    "end_time = time.time()\n",
    "print(f\"The {n}th Fibonacci number is: {result}\")\n",
    "print(\"The time of execution of this code is {} seconds\".format(end_time-start_time))"
   ]
  },
  {
   "cell_type": "markdown",
   "id": "455b899a",
   "metadata": {},
   "source": [
    "###### Iterative approach"
   ]
  },
  {
   "cell_type": "code",
   "execution_count": 34,
   "id": "73a6e4ef",
   "metadata": {},
   "outputs": [
    {
     "name": "stdout",
     "output_type": "stream",
     "text": [
      "The 30th Fibonacci number is: 832040\n",
      "Execution time for iterative solution: 0.000072 seconds\n"
     ]
    }
   ],
   "source": [
    "import time\n",
    "\n",
    "def fibonacci_iterative(n):\n",
    "    if n <= 0:\n",
    "        return None  # Error handling for non-positive integers\n",
    "\n",
    "    if n == 1 or n == 2:\n",
    "        return 1  # Base case: Fibonacci of 1 or 2 is 1\n",
    "\n",
    "    # Initialize variables for the first two Fibonacci numbers\n",
    "    prev, curr = 1, 1\n",
    "\n",
    "    for _ in range(n - 2):  # Iterate n-2 times to calculate the nth Fibonacci number\n",
    "        prev, curr = curr, prev + curr\n",
    "\n",
    "    return curr\n",
    "\n",
    "# Example usage with execution time measurement:\n",
    "n = 30\n",
    "\n",
    "start_time = time.time()\n",
    "result = fibonacci_iterative(n)\n",
    "end_time = time.time()\n",
    "\n",
    "print(f\"The {n}th Fibonacci number is: {result}\")\n",
    "print(f\"Execution time for iterative solution: {end_time - start_time:.6f} seconds\")"
   ]
  },
  {
   "cell_type": "code",
   "execution_count": null,
   "id": "90e91564",
   "metadata": {},
   "outputs": [],
   "source": []
  },
  {
   "cell_type": "code",
   "execution_count": null,
   "id": "c421914b",
   "metadata": {},
   "outputs": [],
   "source": []
  },
  {
   "cell_type": "code",
   "execution_count": null,
   "id": "b938254e",
   "metadata": {},
   "outputs": [],
   "source": []
  },
  {
   "cell_type": "code",
   "execution_count": null,
   "id": "b5079e64",
   "metadata": {},
   "outputs": [],
   "source": []
  },
  {
   "cell_type": "code",
   "execution_count": null,
   "id": "9a350907",
   "metadata": {},
   "outputs": [],
   "source": []
  },
  {
   "cell_type": "code",
   "execution_count": null,
   "id": "bde1bd1b",
   "metadata": {},
   "outputs": [],
   "source": []
  },
  {
   "cell_type": "code",
   "execution_count": null,
   "id": "a172fac8",
   "metadata": {},
   "outputs": [],
   "source": []
  },
  {
   "cell_type": "code",
   "execution_count": null,
   "id": "d0e337c5",
   "metadata": {},
   "outputs": [],
   "source": []
  },
  {
   "cell_type": "code",
   "execution_count": null,
   "id": "329eb922",
   "metadata": {},
   "outputs": [],
   "source": []
  },
  {
   "cell_type": "code",
   "execution_count": null,
   "id": "7f53d705",
   "metadata": {},
   "outputs": [],
   "source": []
  },
  {
   "cell_type": "markdown",
   "id": "cd57640d",
   "metadata": {},
   "source": [
    "- **Difficult Debugging** : Recursive code can be more challenging to debug than iterative code because the flow of execution is less linear and may involve multiple levels of function calls."
   ]
  },
  {
   "cell_type": "markdown",
   "id": "928ab3c3",
   "metadata": {},
   "source": [
    "- **Time and Space Complexity** : Recursive algorithms can result in higher time and space complexity than iterative solutions for some problems."
   ]
  },
  {
   "cell_type": "code",
   "execution_count": null,
   "id": "84628de1",
   "metadata": {},
   "outputs": [],
   "source": []
  },
  {
   "cell_type": "code",
   "execution_count": null,
   "id": "074142e0",
   "metadata": {},
   "outputs": [],
   "source": []
  },
  {
   "cell_type": "code",
   "execution_count": null,
   "id": "83a4c976",
   "metadata": {},
   "outputs": [],
   "source": []
  },
  {
   "cell_type": "code",
   "execution_count": null,
   "id": "ed79b36a",
   "metadata": {},
   "outputs": [],
   "source": []
  },
  {
   "cell_type": "code",
   "execution_count": null,
   "id": "14615452",
   "metadata": {},
   "outputs": [],
   "source": []
  },
  {
   "cell_type": "code",
   "execution_count": null,
   "id": "7f248ac1",
   "metadata": {},
   "outputs": [],
   "source": []
  },
  {
   "cell_type": "code",
   "execution_count": null,
   "id": "1f8f95cb",
   "metadata": {},
   "outputs": [],
   "source": []
  },
  {
   "cell_type": "code",
   "execution_count": null,
   "id": "6ca03a52",
   "metadata": {},
   "outputs": [],
   "source": []
  },
  {
   "cell_type": "code",
   "execution_count": null,
   "id": "c543d0f8",
   "metadata": {},
   "outputs": [],
   "source": []
  },
  {
   "cell_type": "code",
   "execution_count": null,
   "id": "4cf4e353",
   "metadata": {},
   "outputs": [],
   "source": []
  },
  {
   "cell_type": "code",
   "execution_count": null,
   "id": "268a1350",
   "metadata": {},
   "outputs": [],
   "source": []
  },
  {
   "cell_type": "code",
   "execution_count": null,
   "id": "62aac3b0",
   "metadata": {},
   "outputs": [],
   "source": []
  },
  {
   "cell_type": "code",
   "execution_count": null,
   "id": "cf99443b",
   "metadata": {},
   "outputs": [],
   "source": []
  },
  {
   "cell_type": "code",
   "execution_count": null,
   "id": "e7ea5cf4",
   "metadata": {},
   "outputs": [],
   "source": []
  },
  {
   "cell_type": "code",
   "execution_count": null,
   "id": "8b50ac5f",
   "metadata": {},
   "outputs": [],
   "source": []
  },
  {
   "cell_type": "code",
   "execution_count": null,
   "id": "aecb0df4",
   "metadata": {},
   "outputs": [],
   "source": []
  }
 ],
 "metadata": {
  "kernelspec": {
   "display_name": "Python 3 (ipykernel)",
   "language": "python",
   "name": "python3"
  },
  "language_info": {
   "codemirror_mode": {
    "name": "ipython",
    "version": 3
   },
   "file_extension": ".py",
   "mimetype": "text/x-python",
   "name": "python",
   "nbconvert_exporter": "python",
   "pygments_lexer": "ipython3",
   "version": "3.9.16"
  },
  "vp": {
   "vp_config_version": "1.0.0",
   "vp_menu_width": 273,
   "vp_note_display": false,
   "vp_note_width": 0,
   "vp_position": {
    "width": 278
   },
   "vp_section_display": false,
   "vp_signature": "VisualPython"
  }
 },
 "nbformat": 4,
 "nbformat_minor": 5
}
